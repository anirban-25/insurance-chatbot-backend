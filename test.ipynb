{
 "cells": [
  {
   "cell_type": "code",
   "execution_count": 117,
   "id": "b03d0ba8-7644-4856-97f1-4aa5598ae31a",
   "metadata": {},
   "outputs": [],
   "source": [
    "# import Libraries\n",
    "\n",
    "import openai\n",
    "import langchain\n",
    "import pinecone \n",
    "from langchain.document_loaders import PyPDFDirectoryLoader\n",
    "from langchain.text_splitter import RecursiveCharacterTextSplitter\n",
    "from langchain.embeddings.openai import OpenAIEmbeddings\n",
    "from langchain.vectorstores import Pinecone\n",
    "from langchain.llms import OpenAI"
   ]
  },
  {
   "cell_type": "code",
   "execution_count": 118,
   "id": "11614915-320e-46ba-806d-3fc3ad1688e9",
   "metadata": {},
   "outputs": [
    {
     "data": {
      "text/plain": [
       "True"
      ]
     },
     "execution_count": 118,
     "metadata": {},
     "output_type": "execute_result"
    }
   ],
   "source": [
    "from dotenv import load_dotenv\n",
    "load_dotenv()"
   ]
  },
  {
   "cell_type": "code",
   "execution_count": 119,
   "id": "14f2b29b-2006-4206-9f3e-f940a70ad17f",
   "metadata": {},
   "outputs": [],
   "source": [
    "import os"
   ]
  },
  {
   "cell_type": "code",
   "execution_count": 120,
   "id": "99b98afe-e7fb-44fe-b7c6-2128eae4bc9c",
   "metadata": {},
   "outputs": [],
   "source": [
    "## Lets Read the document\n",
    "def read_doc(directory):\n",
    "    file_loader=PyPDFDirectoryLoader(directory)\n",
    "    documents=file_loader.load()\n",
    "    return documents"
   ]
  },
  {
   "cell_type": "code",
   "execution_count": 121,
   "id": "96f2b13c-2dc7-4320-858e-b00544e2d4ad",
   "metadata": {},
   "outputs": [],
   "source": [
    "doc = read_doc(\"documents/\")"
   ]
  },
  {
   "cell_type": "code",
   "execution_count": 122,
   "id": "f4861c9b-a82e-48a5-92d1-d7031a79b773",
   "metadata": {},
   "outputs": [
    {
     "data": {
      "text/plain": [
       "13"
      ]
     },
     "execution_count": 122,
     "metadata": {},
     "output_type": "execute_result"
    }
   ],
   "source": [
    "len(doc)"
   ]
  },
  {
   "cell_type": "code",
   "execution_count": 123,
   "id": "5d159056-a77f-4e04-8f1b-3dc11de76beb",
   "metadata": {},
   "outputs": [],
   "source": [
    "def chunk_data(docs, chunk_size=800, chunk_overlap=50):\n",
    "    text_splitter = RecursiveCharacterTextSplitter(chunk_size=chunk_size,chunk_overlap=chunk_overlap)\n",
    "    chunks = text_splitter.split_documents(docs)\n",
    "    return chunks  "
   ]
  },
  {
   "cell_type": "code",
   "execution_count": 124,
   "id": "d3c73140-76fd-4ef8-af57-6c32edbcda22",
   "metadata": {},
   "outputs": [],
   "source": [
    "documents = chunk_data(docs=doc)"
   ]
  },
  {
   "cell_type": "code",
   "execution_count": 125,
   "id": "3dd487e7-9915-45a7-abfa-5e5be8af9ade",
   "metadata": {},
   "outputs": [
    {
     "data": {
      "text/plain": [
       "47"
      ]
     },
     "execution_count": 125,
     "metadata": {},
     "output_type": "execute_result"
    }
   ],
   "source": [
    "len(documents)"
   ]
  },
  {
   "cell_type": "code",
   "execution_count": null,
   "id": "30000138-10db-47be-b13a-06ff85c11b17",
   "metadata": {},
   "outputs": [],
   "source": [
    "embeddings= OpenAIEmbeddings(api_key=os.environ['OPENAI_API_KEY'])\n",
    "embeddings"
   ]
  },
  {
   "cell_type": "code",
   "execution_count": 128,
   "id": "444e4d14-d8d3-4074-b5b1-0912ad679a1b",
   "metadata": {},
   "outputs": [],
   "source": [
    "# print(os.environ['OPENAI_API_KEY'])"
   ]
  },
  {
   "cell_type": "code",
   "execution_count": 129,
   "id": "29a61aae-2428-4f24-99c7-0a0cda56ce14",
   "metadata": {},
   "outputs": [
    {
     "data": {
      "text/plain": [
       "1536"
      ]
     },
     "execution_count": 129,
     "metadata": {},
     "output_type": "execute_result"
    }
   ],
   "source": [
    "vectors = embeddings.embed_query(\"how are you?\")\n",
    "len(vectors)"
   ]
  },
  {
   "cell_type": "code",
   "execution_count": 130,
   "id": "c78b7c5c-f5ff-4e8c-a276-735d7d17fa6c",
   "metadata": {},
   "outputs": [],
   "source": [
    "from pinecone import Pinecone\n",
    "from langchain_pinecone import PineconeVectorStore\n",
    "from langchain.embeddings.openai import OpenAIEmbeddings\n",
    "import os\n",
    "\n",
    "# Initialize Pinecone client\n",
    "pc = Pinecone(api_key=os.environ['PINCONE_API_KEY'])\n",
    "\n",
    "# Connect to the existing index\n",
    "index = pc.Index(\"insurance\")\n",
    "\n"
   ]
  },
  {
   "cell_type": "code",
   "execution_count": 139,
   "id": "de0527e9-77c0-4457-9b88-547b9cb78300",
   "metadata": {},
   "outputs": [],
   "source": [
    "# print(documents)"
   ]
  },
  {
   "cell_type": "code",
   "execution_count": 140,
   "id": "87bf2f5a-316e-472f-bc5d-3ccea8ddb700",
   "metadata": {
    "scrolled": true
   },
   "outputs": [],
   "source": [
    "documents_with_embeddings = []\n",
    "\n",
    "for i, chunk in enumerate(documents):\n",
    "    embedding = embeddings.embed_query(chunk.page_content)\n",
    "    \n",
    "    #unique ID for this chunk\n",
    "    doc_id = f\"doc_{i}\"\n",
    "    \n",
    "    #storing document data\n",
    "    documents_with_embeddings.append({\n",
    "        \"id\": doc_id,\n",
    "        \"values\": embedding,\n",
    "        \"metadata\": {\n",
    "            \"text\": chunk.page_content,\n",
    "            \"source\": chunk.metadata.get(\"source\", \"unknown\")\n",
    "        }\n",
    "    })"
   ]
  },
  {
   "cell_type": "code",
   "execution_count": 141,
   "id": "0fa5525a-6c55-46f6-9cbc-9464c579e444",
   "metadata": {},
   "outputs": [
    {
     "data": {
      "text/plain": [
       "47"
      ]
     },
     "execution_count": 141,
     "metadata": {},
     "output_type": "execute_result"
    }
   ],
   "source": [
    "len(documents_with_embeddings)"
   ]
  },
  {
   "cell_type": "code",
   "execution_count": 142,
   "id": "b727a1fc-359a-48e9-b174-fbbc16f09d2a",
   "metadata": {},
   "outputs": [
    {
     "name": "stdout",
     "output_type": "stream",
     "text": [
      "Upserted batch 1\n"
     ]
    }
   ],
   "source": [
    "#upsert documents in batches\n",
    "batch_size = 100\n",
    "for i in range(0, len(documents_with_embeddings), batch_size):\n",
    "    batch = documents_with_embeddings[i:i+batch_size]\n",
    "    index.upsert(\n",
    "        vectors=batch,\n",
    "        namespace=\"ns1\"\n",
    "    )\n",
    "    print(f\"Upserted batch {i//batch_size + 1}\")"
   ]
  },
  {
   "cell_type": "code",
   "execution_count": 143,
   "id": "71fc2516-5832-474c-b0a3-f632aaf967ce",
   "metadata": {},
   "outputs": [],
   "source": [
    "#initializing the vector store with the Pinecone index\n",
    "from langchain_pinecone import PineconeVectorStore\n",
    "\n",
    "vectorstore = PineconeVectorStore(\n",
    "    index_name=\"insurance\",\n",
    "    embedding=embeddings,\n",
    "    namespace=\"ns1\",\n",
    "    pinecone_api_key=os.environ['PINCONE_API_KEY']\n",
    ")"
   ]
  },
  {
   "cell_type": "code",
   "execution_count": 146,
   "id": "9d33d5d0-6dc2-4f82-a45b-5e8f8aecebeb",
   "metadata": {},
   "outputs": [
    {
     "name": "stdout",
     "output_type": "stream",
     "text": [
      "Result 1 (Score: 0.804803848):\n",
      "\n",
      "annual Premium. \n",
      "F 6 When we will contest the validity of this Policy \n",
      "We have the right to contest the validity of this Policy, or the payment of the Death Benefit or any other Policy \n",
      "benefits, if you or any Life Insured under this Policy have incorrectly stated, misrepresented or failed to disclose a \n",
      "material fact in the application for insurance, or on any medical examination, or in any written or electronic \n",
      "statements or answers provided as evidence of insurability. \n",
      "Except in the case of fraud, we will not contest this Policy for misrepresentation after it has been in force for two (2) \n",
      "years during the lifetime of every Life Insured, from the later of the Coverage Date or the last date of reinstatement.\n",
      "\n",
      "---\n",
      "\n",
      "Result 2 (Score: 0.776828408):\n",
      "\n",
      "applicants and whether or not an offer of insurance coverage can be made and under what terms Coverage is \n",
      "available. Such terms may include any combination of the following: the payment of an extra premium, a reduction \n",
      "in the amount of insurance applied for, a restriction in the type of benefits applied for, or a denial of particular \n",
      "benefits pertaining to specific risks. \n",
      "Written request or written notice means a request or notice signed by you and received by us, in a form that is \n",
      "satisfactory to us. A written request is not effective until we have recorded it at our office. Any Policy change you \n",
      "request is subject to any payments made or other action taken by us before your request was recorded at our office.\n",
      "\n",
      "---\n",
      "\n"
     ]
    }
   ],
   "source": [
    "# Search for similar documents with a query\n",
    "query = \"I want to dispute my claim denial\"\n",
    "results_with_score = vectorstore.similarity_search_with_score(query, k=2)\n",
    "\n",
    "# Display the results\n",
    "for i, (doc, score) in enumerate(results_with_score):\n",
    "    print(f\"Result {i+1} (Score: {score}):\\n\")\n",
    "    print(doc.page_content)\n",
    "    print(\"\\n---\\n\")"
   ]
  },
  {
   "cell_type": "code",
   "execution_count": 108,
   "id": "f8cf6608-1c69-4473-8c8d-5439a1405d01",
   "metadata": {},
   "outputs": [
    {
     "name": "stdout",
     "output_type": "stream",
     "text": [
      "{'dimension': 1536,\n",
      " 'index_fullness': 0.0,\n",
      " 'metric': 'cosine',\n",
      " 'namespaces': {'ns1': {'vector_count': 47}},\n",
      " 'total_vector_count': 47,\n",
      " 'vector_type': 'dense'}\n"
     ]
    }
   ],
   "source": [
    "# Check index stats to confirm documents were uploaded\n",
    "index = pc.Index(\"insurance\")\n",
    "stats = index.describe_index_stats(namespace=\"ns1\")\n",
    "print(stats)"
   ]
  },
  {
   "cell_type": "code",
   "execution_count": 109,
   "id": "725b6b1d-3070-445c-b6c6-cbb1218e765e",
   "metadata": {},
   "outputs": [
    {
     "name": "stdout",
     "output_type": "stream",
     "text": [
      "ID: doc_45, Score: 0.830493271\n",
      "Content: Beneficiary restrictions: \n",
      "Your policy contains a provision restricting or removing your right to designate a beneficiary to receive any \n",
      "insurance money payable under the contract if, \n",
      "this coverage ...\n",
      "\n",
      "---\n",
      "\n",
      "ID: doc_44, Score: 0.825645924\n",
      "Content: Specimen\n",
      "Provincial amendments \n",
      "This policy contract is amended by adding the following provisions: \n",
      "Limitation of Actions: \n",
      "Every action or proceeding against an insurer for the recovery of insurance...\n",
      "\n",
      "---\n",
      "\n"
     ]
    }
   ],
   "source": [
    "# Alternative direct query using Pinecone (not LangChain)\n",
    "query_embedding = embeddings.embed_query(\"What are the exclusions in this insurance policy?\")\n",
    "query_results = index.query(\n",
    "    namespace=\"ns1\",\n",
    "    vector=query_embedding,\n",
    "    top_k=2,\n",
    "    include_metadata=True\n",
    ")\n",
    "\n",
    "# Display the direct Pinecone query results\n",
    "for match in query_results['matches']:\n",
    "    print(f\"ID: {match['id']}, Score: {match['score']}\")\n",
    "    print(f\"Content: {match['metadata']['text'][:200]}...\")\n",
    "    print(\"\\n---\\n\")"
   ]
  },
  {
   "cell_type": "code",
   "execution_count": null,
   "id": "4c47a522-1899-48d3-b491-79d263197307",
   "metadata": {},
   "outputs": [],
   "source": []
  }
 ],
 "metadata": {
  "kernelspec": {
   "display_name": "Python 3 (ipykernel)",
   "language": "python",
   "name": "python3"
  },
  "language_info": {
   "codemirror_mode": {
    "name": "ipython",
    "version": 3
   },
   "file_extension": ".py",
   "mimetype": "text/x-python",
   "name": "python",
   "nbconvert_exporter": "python",
   "pygments_lexer": "ipython3",
   "version": "3.10.0"
  }
 },
 "nbformat": 4,
 "nbformat_minor": 5
}
